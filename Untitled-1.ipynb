{
 "cells": [
  {
   "cell_type": "code",
   "execution_count": null,
   "metadata": {},
   "outputs": [
    {
     "ename": "TypeError",
     "evalue": "send() missing 5 required positional arguments: 'to', 'password', 'port', 'subject', and 'body'",
     "output_type": "error",
     "traceback": [
      "\u001b[1;31m---------------------------------------------------------------------------\u001b[0m",
      "\u001b[1;31mTypeError\u001b[0m                                 Traceback (most recent call last)",
      "\u001b[1;32mc:\\Users\\gsoul\\Documents\\PYTHON\\FORMATION\\FLASK\\CANDI-APP\\candi-app-main\\Untitled-1.ipynb Cell 3'\u001b[0m in \u001b[0;36m<module>\u001b[1;34m\u001b[0m\n\u001b[0;32m     <a href='vscode-notebook-cell:/c%3A/Users/gsoul/Documents/PYTHON/FORMATION/FLASK/CANDI-APP/candi-app-main/Untitled-1.ipynb#ch0000002?line=16'>17</a>\u001b[0m             \u001b[39mprint\u001b[39m(\u001b[39m\"\u001b[39m\u001b[39mERROR\u001b[39m\u001b[39m\"\u001b[39m,\n\u001b[0;32m     <a href='vscode-notebook-cell:/c%3A/Users/gsoul/Documents/PYTHON/FORMATION/FLASK/CANDI-APP/candi-app-main/Untitled-1.ipynb#ch0000002?line=17'>18</a>\u001b[0m                 \u001b[39m\"\u001b[39m\u001b[39m(Mail.send) - Unexpected error in Mail.send() error e => \u001b[39m\u001b[39m\"\u001b[39m\n\u001b[0;32m     <a href='vscode-notebook-cell:/c%3A/Users/gsoul/Documents/PYTHON/FORMATION/FLASK/CANDI-APP/candi-app-main/Untitled-1.ipynb#ch0000002?line=18'>19</a>\u001b[0m                 \u001b[39m+\u001b[39m \u001b[39mstr\u001b[39m(e))\n\u001b[0;32m     <a href='vscode-notebook-cell:/c%3A/Users/gsoul/Documents/PYTHON/FORMATION/FLASK/CANDI-APP/candi-app-main/Untitled-1.ipynb#ch0000002?line=19'>20</a>\u001b[0m             \u001b[39mpass\u001b[39;00m \n\u001b[1;32m---> <a href='vscode-notebook-cell:/c%3A/Users/gsoul/Documents/PYTHON/FORMATION/FLASK/CANDI-APP/candi-app-main/Untitled-1.ipynb#ch0000002?line=21'>22</a>\u001b[0m send(\u001b[39m\"\u001b[39;49m\u001b[39mcand\u001b[39;49m\u001b[39m\"\u001b[39;49m)\n",
      "\u001b[1;31mTypeError\u001b[0m: send() missing 5 required positional arguments: 'to', 'password', 'port', 'subject', and 'body'"
     ]
    }
   ],
   "source": [
    "import smtpli\n",
    "\n",
    "def send(sender,to,password,port,subject,body):\n",
    "        try:\n",
    "            if not Mail.__disabled__:\n",
    "                message = MIMEText(body)\n",
    "                message['Subject'] = subject\n",
    "                mail = smtplib.SMTP('smtp.gmail.com',port)\n",
    "                mail.starttls()\n",
    "                mail.login(sender,password)\n",
    "                mail.sendmail(sender, to, message.as_string())\n",
    "                mail.quit()\n",
    "                print(\"INFO\", \"(Mail.send) - Sent email successfully!\")\n",
    "            else:\n",
    "                print(\"WARN\", \"(Mail.send) - Sending mail has been disabled!\")\n",
    "        except smtplib.SMTPAuthenticationError:\n",
    "            print(\"WARN\", \"(Mail.send) - Could not athenticate with password and username!\")\n",
    "        except Exception as e:\n",
    "            print(\"ERROR\",\n",
    "                \"(Mail.send) - Unexpected error in Mail.send() error e => \"\n",
    "                + str(e))\n",
    "            pass \n",
    "        \n",
    "send(\"candy59.app@gmail.com\", \"gsoulat31@gmail.com\", \"@Azerty59&\", 587, 'test', 'coucou')"
   ]
  }
 ],
 "metadata": {
  "interpreter": {
   "hash": "1e651954d207b837c23c18c106be58a6ab2bf3f76698adc6ff9bda1ac43f1166"
  },
  "kernelspec": {
   "display_name": "Python 3.10.2 ('myFlask': venv)",
   "language": "python",
   "name": "python3"
  },
  "language_info": {
   "codemirror_mode": {
    "name": "ipython",
    "version": 3
   },
   "file_extension": ".py",
   "mimetype": "text/x-python",
   "name": "python",
   "nbconvert_exporter": "python",
   "pygments_lexer": "ipython3",
   "version": "3.10.2"
  },
  "orig_nbformat": 4
 },
 "nbformat": 4,
 "nbformat_minor": 2
}
